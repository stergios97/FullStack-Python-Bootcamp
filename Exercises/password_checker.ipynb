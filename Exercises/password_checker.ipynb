{
 "cells": [
  {
   "cell_type": "code",
   "execution_count": 7,
   "metadata": {},
   "outputs": [
    {
     "name": "stdout",
     "output_type": "stream",
     "text": [
      "Stergios , your password 'ncvionc3434' is 11 letters long.\n"
     ]
    }
   ],
   "source": [
    "username = input('What is your username?')\n",
    "password = input('What is your password?')\n",
    "\n",
    "print(f'{username}, your password \\'{password}\\' is {len(password)} letters long.')"
   ]
  },
  {
   "cell_type": "markdown",
   "metadata": {},
   "source": [
    "However, I want for safety reasons the password that I set not to be shown."
   ]
  },
  {
   "cell_type": "code",
   "execution_count": 8,
   "metadata": {},
   "outputs": [
    {
     "name": "stdout",
     "output_type": "stream",
     "text": [
      "Stergios, your password '************' is 12 letters long.\n"
     ]
    }
   ],
   "source": [
    "username = input('What is your username?')\n",
    "password = input('What is your password?')\n",
    "\n",
    "password_length = len(password) # For convenience\n",
    "\n",
    "hidden_password = '*' * password_length\n",
    "\n",
    "print(f'{username}, your password \\'{hidden_password}\\' is {password_length} letters long.')"
   ]
  }
 ],
 "metadata": {
  "kernelspec": {
   "display_name": "Python 3",
   "language": "python",
   "name": "python3"
  },
  "language_info": {
   "codemirror_mode": {
    "name": "ipython",
    "version": 3
   },
   "file_extension": ".py",
   "mimetype": "text/x-python",
   "name": "python",
   "nbconvert_exporter": "python",
   "pygments_lexer": "ipython3",
   "version": "3.11.3"
  }
 },
 "nbformat": 4,
 "nbformat_minor": 2
}
