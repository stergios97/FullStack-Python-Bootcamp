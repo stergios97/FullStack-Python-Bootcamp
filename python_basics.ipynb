{
 "cells": [
  {
   "cell_type": "markdown",
   "metadata": {},
   "source": [
    "String Concatenation"
   ]
  },
  {
   "cell_type": "code",
   "execution_count": 9,
   "metadata": {},
   "outputs": [
    {
     "name": "stdout",
     "output_type": "stream",
     "text": [
      "hello Steve\n",
      "hello 10\n"
     ]
    }
   ],
   "source": [
    "print('hello' + ' Steve')\n",
    "print('hello ' + str(10))   # We have to turn 10 to a string (str(10)) because we cannot concatenate an integer with a string\n"
   ]
  },
  {
   "cell_type": "markdown",
   "metadata": {},
   "source": [
    "Escape Sequences\n"
   ]
  },
  {
   "cell_type": "code",
   "execution_count": 10,
   "metadata": {},
   "outputs": [
    {
     "name": "stdout",
     "output_type": "stream",
     "text": [
      "\t It's \"kind of\" sunny \n",
      " Hope you have a good day!\n"
     ]
    }
   ],
   "source": [
    "# By using a '\\' we say to Python, everything after the '\\' treat it like it is a string\n",
    "# By using '\\t' we say, whatever comes after the '\\' I want you to add a tab (space)\n",
    "# By using '\\n' we say, whatever comes after the '\\' I want you to add a new line\n",
    "\n",
    "weather = \"\\t It\\'s \\\"kind of\\\" sunny \\n Hope you have a good day!\"  \n",
    "print(weather)"
   ]
  },
  {
   "cell_type": "markdown",
   "metadata": {},
   "source": [
    "Formatted Strings"
   ]
  },
  {
   "cell_type": "code",
   "execution_count": 15,
   "metadata": {},
   "outputs": [
    {
     "name": "stdout",
     "output_type": "stream",
     "text": [
      "Hi Steve. You are 27 years old.\n",
      "Hi Steve. You are 27 years old.\n"
     ]
    }
   ],
   "source": [
    "# Python 3 Formatted Strings\n",
    "\n",
    "# The 'f' at the beginning of the string will say to Python that this is a formatted string\n",
    "\n",
    "name = 'Steve'\n",
    "age = 27\n",
    "print('Hi' + ' ' + name + '. You are' + ' ' + str(age) + ' years old.')\n",
    "print(f'Hi {name}. You are {age} years old.')"
   ]
  },
  {
   "cell_type": "code",
   "execution_count": 21,
   "metadata": {},
   "outputs": [
    {
     "name": "stdout",
     "output_type": "stream",
     "text": [
      "Hi Steve. Your are 27 years old.\n",
      "Hi Steve. You are 27 years old.\n",
      "Hi Mark. You are 50 years old.\n"
     ]
    }
   ],
   "source": [
    "# Python 2 Formatted Strings\n",
    "print('Hi {}. Your are {} years old.'.format(name, age)) # With order\n",
    "print('Hi {1}. You are {0} years old.'.format(age, name)) # Use a specific order\n",
    "print('Hi {new_name}. You are {age} years old.'.format(new_name='Mark', age=50))"
   ]
  },
  {
   "cell_type": "markdown",
   "metadata": {},
   "source": [
    "String Indexes"
   ]
  },
  {
   "cell_type": "code",
   "execution_count": 34,
   "metadata": {},
   "outputs": [
    {
     "name": "stdout",
     "output_type": "stream",
     "text": [
      "H\n",
      "How\n",
      "?\n",
      "e\n",
      "How are u?\n"
     ]
    }
   ],
   "source": [
    "message = 'How are u?'\n",
    "#          0123456789\n",
    "print(message[0])\n",
    "print(message[0:3])\n",
    "print(message[-1]) # Using '-' means in Python that you start from the end (reverse)\n",
    "print(message[-4])\n",
    "print(message[:]) # Prints everything\n",
    "\n",
    "# String slicing: message[start:stop:stepover]"
   ]
  },
  {
   "cell_type": "markdown",
   "metadata": {},
   "source": [
    "String Immutability"
   ]
  },
  {
   "cell_type": "code",
   "execution_count": 33,
   "metadata": {},
   "outputs": [
    {
     "ename": "TypeError",
     "evalue": "'str' object does not support item assignment",
     "output_type": "error",
     "traceback": [
      "\u001b[1;31m---------------------------------------------------------------------------\u001b[0m",
      "\u001b[1;31mTypeError\u001b[0m                                 Traceback (most recent call last)",
      "Cell \u001b[1;32mIn[33], line 5\u001b[0m\n\u001b[0;32m      2\u001b[0m numbers \u001b[38;5;241m=\u001b[39m \u001b[38;5;124m'\u001b[39m\u001b[38;5;124m012345678\u001b[39m\u001b[38;5;124m'\u001b[39m\n\u001b[0;32m      4\u001b[0m \u001b[38;5;66;03m# If I try to change a part of the string\u001b[39;00m\n\u001b[1;32m----> 5\u001b[0m \u001b[43mnumbers\u001b[49m\u001b[43m[\u001b[49m\u001b[38;5;241;43m0\u001b[39;49m\u001b[43m]\u001b[49m \u001b[38;5;241m=\u001b[39m \u001b[38;5;124m'\u001b[39m\u001b[38;5;124m9\u001b[39m\u001b[38;5;124m'\u001b[39m \n",
      "\u001b[1;31mTypeError\u001b[0m: 'str' object does not support item assignment"
     ]
    }
   ],
   "source": [
    "# Define a string\n",
    "numbers = '012345678'\n",
    "\n",
    "# If I try to change a part of the string\n",
    "numbers[0] = '9' \n",
    "\n",
    "# I will get a TypeError: 'str' object does not support item assignment, because strings are immutable. \n",
    "# I cannot change the value of a part of it once it's created.\n",
    "# I can only change the whole string by creating something new like: numbers = '9'"
   ]
  },
  {
   "cell_type": "markdown",
   "metadata": {},
   "source": [
    "Built-in Functions and Methods"
   ]
  },
  {
   "cell_type": "code",
   "execution_count": 37,
   "metadata": {},
   "outputs": [
    {
     "name": "stdout",
     "output_type": "stream",
     "text": [
      "10\n",
      "TO BE OR NOT TO BE\n",
      "To be or not to be\n",
      "3\n",
      "to me or not to me\n"
     ]
    }
   ],
   "source": [
    "print(len('Helllooooo'))\n",
    "quote = 'to be or not to be'\n",
    "print(quote.upper()) # Capitalizes the whole string. Can use '.lower' in a similar way\n",
    "print(quote.capitalize()) # Capitalizes the first value\n",
    "print(quote.find('be')) # Finds the position of the first occurence of the text we are looking for\n",
    "print(quote.replace('be', 'me'))"
   ]
  },
  {
   "cell_type": "markdown",
   "metadata": {},
   "source": [
    "Booleans: Parameters that can have as values TRUE or FALSE only. In programming is like we have 0s and 1s."
   ]
  },
  {
   "cell_type": "markdown",
   "metadata": {},
   "source": [
    "Type Conversion"
   ]
  },
  {
   "cell_type": "code",
   "execution_count": 1,
   "metadata": {},
   "outputs": [
    {
     "ename": "TypeError",
     "evalue": "unsupported operand type(s) for -: 'int' and 'str'",
     "output_type": "error",
     "traceback": [
      "\u001b[1;31m---------------------------------------------------------------------------\u001b[0m",
      "\u001b[1;31mTypeError\u001b[0m                                 Traceback (most recent call last)",
      "Cell \u001b[1;32mIn[1], line 3\u001b[0m\n\u001b[0;32m      1\u001b[0m birth_year \u001b[38;5;241m=\u001b[39m \u001b[38;5;28minput\u001b[39m(\u001b[38;5;124m'\u001b[39m\u001b[38;5;124mWhat year were you born?\u001b[39m\u001b[38;5;124m'\u001b[39m)\n\u001b[1;32m----> 3\u001b[0m age \u001b[38;5;241m=\u001b[39m \u001b[38;5;241;43m2025\u001b[39;49m\u001b[43m \u001b[49m\u001b[38;5;241;43m-\u001b[39;49m\u001b[43m \u001b[49m\u001b[43mbirth_year\u001b[49m\n\u001b[0;32m      5\u001b[0m \u001b[38;5;28mprint\u001b[39m(\u001b[38;5;124m'\u001b[39m\u001b[38;5;124mYour age is: \u001b[39m\u001b[38;5;132;01m{age}\u001b[39;00m\u001b[38;5;124m'\u001b[39m)\n",
      "\u001b[1;31mTypeError\u001b[0m: unsupported operand type(s) for -: 'int' and 'str'"
     ]
    }
   ],
   "source": [
    "birth_year = input('What year were you born?')\n",
    "\n",
    "age = 2025 - birth_year\n",
    "\n",
    "print('Your age is: {age}')"
   ]
  },
  {
   "cell_type": "code",
   "execution_count": null,
   "metadata": {},
   "outputs": [
    {
     "name": "stdout",
     "output_type": "stream",
     "text": [
      "Your age is: 28\n"
     ]
    }
   ],
   "source": [
    "birth_year = input('What year were you born?')\n",
    "\n",
    "age = 2025 - int(birth_year) # We cannot subtract a string from an integer. So we need to transform the string into an integer.\n",
    "# We can use a float as well\n",
    "\n",
    "print(f'Your age is: {age}')"
   ]
  },
  {
   "cell_type": "markdown",
   "metadata": {},
   "source": [
    "List (An ordered sequence of objects)"
   ]
  },
  {
   "cell_type": "code",
   "execution_count": null,
   "metadata": {},
   "outputs": [],
   "source": [
    "l1 = [] # An empty list\n",
    "l2 = [1, 2, 3]\n",
    "l3 = ['a', 'b', 'c']\n",
    "l4 = [1, 2, 'a', True]"
   ]
  }
 ],
 "metadata": {
  "kernelspec": {
   "display_name": "Python 3",
   "language": "python",
   "name": "python3"
  },
  "language_info": {
   "codemirror_mode": {
    "name": "ipython",
    "version": 3
   },
   "file_extension": ".py",
   "mimetype": "text/x-python",
   "name": "python",
   "nbconvert_exporter": "python",
   "pygments_lexer": "ipython3",
   "version": "3.11.3"
  }
 },
 "nbformat": 4,
 "nbformat_minor": 2
}
