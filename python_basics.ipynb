{
 "cells": [
  {
   "cell_type": "markdown",
   "metadata": {},
   "source": [
    "String Concatenation"
   ]
  },
  {
   "cell_type": "code",
   "execution_count": 9,
   "metadata": {},
   "outputs": [
    {
     "name": "stdout",
     "output_type": "stream",
     "text": [
      "hello Steve\n",
      "hello 10\n"
     ]
    }
   ],
   "source": [
    "print('hello' + ' Steve')\n",
    "print('hello ' + str(10))   # We have to turn 10 to a string (str(10)) because we cannot concatenate an integer with a string\n"
   ]
  },
  {
   "cell_type": "markdown",
   "metadata": {},
   "source": [
    "Escape Sequences\n"
   ]
  },
  {
   "cell_type": "code",
   "execution_count": 10,
   "metadata": {},
   "outputs": [
    {
     "name": "stdout",
     "output_type": "stream",
     "text": [
      "\t It's \"kind of\" sunny \n",
      " Hope you have a good day!\n"
     ]
    }
   ],
   "source": [
    "# By using a '\\' we say to Python, everything after the '\\' treat it like it is a string\n",
    "# By using '\\t' we say, whatever comes after the '\\' I want you to add a tab (space)\n",
    "# By using '\\n' we say, whatever comes after the '\\' I want you to add a new line\n",
    "\n",
    "weather = \"\\t It\\'s \\\"kind of\\\" sunny \\n Hope you have a good day!\"  \n",
    "print(weather)"
   ]
  },
  {
   "cell_type": "markdown",
   "metadata": {},
   "source": [
    "Formatted Strings"
   ]
  },
  {
   "cell_type": "code",
   "execution_count": null,
   "metadata": {},
   "outputs": [],
   "source": [
    "name = 'Nitesh'\n",
    "age = 27\n",
    "print('Hi' + name + '. You are' + str(age) + ' years olf.')\n",
    "print(f'Hi {name}. You are {age} years old.')\n",
    "\n",
    "# Python2 Formatted Strings\n",
    "print('Hi {}. Your are {} years old.'.format(name, age))\n",
    "print('Hi {1}. You are {0} years olf.'.format(age, name))\n",
    "print('Hi {new_name}. You are {age} years old.'.format(new_name='Sally', age=100))\n",
    "print('\\n')"
   ]
  }
 ],
 "metadata": {
  "kernelspec": {
   "display_name": "Python 3",
   "language": "python",
   "name": "python3"
  },
  "language_info": {
   "codemirror_mode": {
    "name": "ipython",
    "version": 3
   },
   "file_extension": ".py",
   "mimetype": "text/x-python",
   "name": "python",
   "nbconvert_exporter": "python",
   "pygments_lexer": "ipython3",
   "version": "3.11.3"
  }
 },
 "nbformat": 4,
 "nbformat_minor": 2
}
